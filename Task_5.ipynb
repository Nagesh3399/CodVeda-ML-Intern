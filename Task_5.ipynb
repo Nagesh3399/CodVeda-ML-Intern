{
 "cells": [
  {
   "cell_type": "markdown",
   "metadata": {},
   "source": [
    "### Decision tree for Classification"
   ]
  },
  {
   "cell_type": "code",
   "execution_count": 18,
   "metadata": {},
   "outputs": [],
   "source": [
    "import pandas as pd \n",
    "import numpy as np \n",
    "import matplotlib.pyplot as plt \n",
    "import seaborn as sns \n",
    "from sklearn.feature_extraction.text import TfidfVectorizer\n",
    "from sklearn.tree import DecisionTreeClassifier\n",
    "from sklearn.model_selection import train_test_split\n",
    "from sklearn.metrics import classification_report"
   ]
  },
  {
   "cell_type": "code",
   "execution_count": 3,
   "metadata": {},
   "outputs": [],
   "source": [
    "data = pd.read_csv(r\"C:\\Users\\N.NAGESH\\Desktop\\CodVeda\\Dataset\\3) Sentiment dataset.csv\")"
   ]
  },
  {
   "cell_type": "code",
   "execution_count": 9,
   "metadata": {},
   "outputs": [],
   "source": [
    "data = data[['Text','Sentiment']]"
   ]
  },
  {
   "cell_type": "code",
   "execution_count": 10,
   "metadata": {},
   "outputs": [
    {
     "data": {
      "application/vnd.microsoft.datawrangler.viewer.v0+json": {
       "columns": [
        {
         "name": "index",
         "rawType": "int64",
         "type": "integer"
        },
        {
         "name": "Text",
         "rawType": "object",
         "type": "string"
        },
        {
         "name": "Sentiment",
         "rawType": "object",
         "type": "string"
        }
       ],
       "conversionMethod": "pd.DataFrame",
       "ref": "f6d1e407-cbe2-47c9-baf8-a1b11fcf2558",
       "rows": [
        [
         "0",
         " Enjoying a beautiful day at the park!              ",
         " Positive  "
        ],
        [
         "1",
         " Traffic was terrible this morning.                 ",
         " Negative  "
        ],
        [
         "2",
         " Just finished an amazing workout! 💪               ",
         " Positive  "
        ],
        [
         "3",
         " Excited about the upcoming weekend getaway!        ",
         " Positive  "
        ],
        [
         "4",
         " Trying out a new recipe for dinner tonight.        ",
         " Neutral   "
        ],
        [
         "5",
         " Feeling grateful for the little things in life.    ",
         " Positive  "
        ],
        [
         "6",
         " Rainy days call for cozy blankets and hot cocoa.   ",
         " Positive  "
        ],
        [
         "7",
         " The new movie release is a must-watch!             ",
         " Positive  "
        ],
        [
         "8",
         " Political discussions heating up on the timeline.  ",
         " Negative  "
        ],
        [
         "9",
         " Missing summer vibes and beach days.               ",
         " Neutral   "
        ],
        [
         "10",
         " Just published a new blog post. Check it out!      ",
         " Positive  "
        ],
        [
         "11",
         " Feeling a bit under the weather today.             ",
         " Negative  "
        ],
        [
         "12",
         " Exploring the city's hidden gems.                  ",
         " Positive  "
        ],
        [
         "13",
         " New year, new fitness goals! 💪                    ",
         " Positive  "
        ],
        [
         "14",
         " Technology is changing the way we live.            ",
         " Neutral   "
        ],
        [
         "15",
         " Reflecting on the past and looking ahead.          ",
         " Positive  "
        ],
        [
         "16",
         " Just adopted a cute furry friend! 🐾              ",
         " Positive  "
        ],
        [
         "17",
         " Late-night gaming session with friends.            ",
         " Positive  "
        ],
        [
         "18",
         " Attending a virtual conference on AI.              ",
         " Neutral   "
        ],
        [
         "19",
         " Winter blues got me feeling low.                   ",
         " Negative  "
        ],
        [
         "20",
         " Sipping coffee and enjoying a good book.           ",
         " Positive  "
        ],
        [
         "21",
         " Exploring the world of virtual reality.            ",
         " Positive  "
        ],
        [
         "22",
         " Productive day ticking off my to-do list.          ",
         " Positive  "
        ],
        [
         "23",
         " Just finished a challenging workout routine.       ",
         " Positive  "
        ],
        [
         "24",
         " Celebrating a milestone at work! 🎉               ",
         " Positive  "
        ],
        [
         "25",
         " Sunday brunch with friends.                        ",
         " Positive  "
        ],
        [
         "26",
         " Learning a new language for personal growth.       ",
         " Positive  "
        ],
        [
         "27",
         " Quiet evening with a good book.                    ",
         " Positive  "
        ],
        [
         "28",
         " Reflecting on the importance of mental health.     ",
         " Positive  "
        ],
        [
         "29",
         " New painting in progress! 🎨                       ",
         " Positive  "
        ],
        [
         "30",
         " Weekend road trip to explore scenic views.         ",
         " Positive  "
        ],
        [
         "31",
         " Enjoying a cup of tea and watching the sunset.     ",
         " Positive  "
        ],
        [
         "32",
         " Coding a new project with enthusiasm.              ",
         " Positive  "
        ],
        [
         "33",
         " Feeling inspired after attending a workshop.       ",
         " Positive  "
        ],
        [
         "34",
         " Winter sports day at the local park.               ",
         " Positive  "
        ],
        [
         "35",
         " Quality time with family this weekend.             ",
         " Positive  "
        ],
        [
         "36",
         " Attending a live music concert tonight.            ",
         " Positive  "
        ],
        [
         "37",
         " Practicing mindfulness with meditation.            ",
         " Positive  "
        ],
        [
         "38",
         " Trying out a new dessert recipe.                   ",
         " Positive  "
        ],
        [
         "39",
         " Excited about the upcoming gaming tournament.      ",
         " Positive  "
        ],
        [
         "40",
         " Planning a garden makeover for spring.             ",
         " Positive  "
        ],
        [
         "41",
         " Celebrating a friend's birthday tonight! 🎂       ",
         " Positive  "
        ],
        [
         "42",
         " Feeling accomplished after a productive day.       ",
         " Positive  "
        ],
        [
         "43",
         " A cozy evening with a good movie.                 ",
         " Positive  "
        ],
        [
         "44",
         " Exploring local art galleries this weekend.        ",
         " Positive  "
        ],
        [
         "45",
         " New book release from my favorite author!          ",
         " Positive  "
        ],
        [
         "46",
         " Attending a virtual reality meetup.                ",
         " Positive  "
        ],
        [
         "47",
         " Reflecting on the beauty of nature.                ",
         " Positive  "
        ],
        [
         "48",
         " Cooking a special dinner for loved ones.           ",
         " Positive  "
        ],
        [
         "49",
         " Feeling optimistic about the week ahead.           ",
         " Positive  "
        ]
       ],
       "shape": {
        "columns": 2,
        "rows": 732
       }
      },
      "text/html": [
       "<div>\n",
       "<style scoped>\n",
       "    .dataframe tbody tr th:only-of-type {\n",
       "        vertical-align: middle;\n",
       "    }\n",
       "\n",
       "    .dataframe tbody tr th {\n",
       "        vertical-align: top;\n",
       "    }\n",
       "\n",
       "    .dataframe thead th {\n",
       "        text-align: right;\n",
       "    }\n",
       "</style>\n",
       "<table border=\"1\" class=\"dataframe\">\n",
       "  <thead>\n",
       "    <tr style=\"text-align: right;\">\n",
       "      <th></th>\n",
       "      <th>Text</th>\n",
       "      <th>Sentiment</th>\n",
       "    </tr>\n",
       "  </thead>\n",
       "  <tbody>\n",
       "    <tr>\n",
       "      <th>0</th>\n",
       "      <td>Enjoying a beautiful day at the park!        ...</td>\n",
       "      <td>Positive</td>\n",
       "    </tr>\n",
       "    <tr>\n",
       "      <th>1</th>\n",
       "      <td>Traffic was terrible this morning.           ...</td>\n",
       "      <td>Negative</td>\n",
       "    </tr>\n",
       "    <tr>\n",
       "      <th>2</th>\n",
       "      <td>Just finished an amazing workout! 💪          ...</td>\n",
       "      <td>Positive</td>\n",
       "    </tr>\n",
       "    <tr>\n",
       "      <th>3</th>\n",
       "      <td>Excited about the upcoming weekend getaway!  ...</td>\n",
       "      <td>Positive</td>\n",
       "    </tr>\n",
       "    <tr>\n",
       "      <th>4</th>\n",
       "      <td>Trying out a new recipe for dinner tonight.  ...</td>\n",
       "      <td>Neutral</td>\n",
       "    </tr>\n",
       "    <tr>\n",
       "      <th>...</th>\n",
       "      <td>...</td>\n",
       "      <td>...</td>\n",
       "    </tr>\n",
       "    <tr>\n",
       "      <th>727</th>\n",
       "      <td>Collaborating on a science project that receiv...</td>\n",
       "      <td>Happy</td>\n",
       "    </tr>\n",
       "    <tr>\n",
       "      <th>728</th>\n",
       "      <td>Attending a surprise birthday party organized ...</td>\n",
       "      <td>Happy</td>\n",
       "    </tr>\n",
       "    <tr>\n",
       "      <th>729</th>\n",
       "      <td>Successfully fundraising for a school charity ...</td>\n",
       "      <td>Happy</td>\n",
       "    </tr>\n",
       "    <tr>\n",
       "      <th>730</th>\n",
       "      <td>Participating in a multicultural festival, cel...</td>\n",
       "      <td>Happy</td>\n",
       "    </tr>\n",
       "    <tr>\n",
       "      <th>731</th>\n",
       "      <td>Organizing a virtual talent show during challe...</td>\n",
       "      <td>Happy</td>\n",
       "    </tr>\n",
       "  </tbody>\n",
       "</table>\n",
       "<p>732 rows × 2 columns</p>\n",
       "</div>"
      ],
      "text/plain": [
       "                                                  Text    Sentiment\n",
       "0     Enjoying a beautiful day at the park!        ...   Positive  \n",
       "1     Traffic was terrible this morning.           ...   Negative  \n",
       "2     Just finished an amazing workout! 💪          ...   Positive  \n",
       "3     Excited about the upcoming weekend getaway!  ...   Positive  \n",
       "4     Trying out a new recipe for dinner tonight.  ...   Neutral   \n",
       "..                                                 ...          ...\n",
       "727  Collaborating on a science project that receiv...       Happy \n",
       "728  Attending a surprise birthday party organized ...       Happy \n",
       "729  Successfully fundraising for a school charity ...       Happy \n",
       "730  Participating in a multicultural festival, cel...       Happy \n",
       "731  Organizing a virtual talent show during challe...       Happy \n",
       "\n",
       "[732 rows x 2 columns]"
      ]
     },
     "execution_count": 10,
     "metadata": {},
     "output_type": "execute_result"
    }
   ],
   "source": [
    "data"
   ]
  },
  {
   "cell_type": "code",
   "execution_count": 11,
   "metadata": {},
   "outputs": [
    {
     "data": {
      "text/plain": [
       "(732, 2)"
      ]
     },
     "execution_count": 11,
     "metadata": {},
     "output_type": "execute_result"
    }
   ],
   "source": [
    "data.shape"
   ]
  },
  {
   "cell_type": "code",
   "execution_count": 17,
   "metadata": {},
   "outputs": [
    {
     "data": {
      "text/plain": [
       "Sentiment\n",
       "Positive         44\n",
       "Joy              42\n",
       "Excitement       32\n",
       "Neutral          14\n",
       "Contentment      14\n",
       "                 ..\n",
       "Triumph           1\n",
       "Heartwarming      1\n",
       "Obstacle          1\n",
       "Sympathy          1\n",
       "Pressure          1\n",
       "Name: count, Length: 279, dtype: int64"
      ]
     },
     "execution_count": 17,
     "metadata": {},
     "output_type": "execute_result"
    }
   ],
   "source": [
    "data['Sentiment'].value_counts()"
   ]
  },
  {
   "cell_type": "code",
   "execution_count": 19,
   "metadata": {},
   "outputs": [
    {
     "name": "stderr",
     "output_type": "stream",
     "text": [
      "C:\\Windows\\Temp\\ipykernel_27868\\633504808.py:1: SettingWithCopyWarning: \n",
      "A value is trying to be set on a copy of a slice from a DataFrame.\n",
      "Try using .loc[row_indexer,col_indexer] = value instead\n",
      "\n",
      "See the caveats in the documentation: https://pandas.pydata.org/pandas-docs/stable/user_guide/indexing.html#returning-a-view-versus-a-copy\n",
      "  data['Text'] = data['Text'].str.lower()\n"
     ]
    }
   ],
   "source": [
    "data['Text'] = data['Text'].str.lower()"
   ]
  },
  {
   "cell_type": "code",
   "execution_count": 27,
   "metadata": {},
   "outputs": [],
   "source": [
    "vectorizer = TfidfVectorizer(max_features=5000)\n",
    "x = vectorizer.fit_transform(data['Text'])\n",
    "y = data['Sentiment'] "
   ]
  },
  {
   "cell_type": "code",
   "execution_count": 28,
   "metadata": {},
   "outputs": [],
   "source": [
    "x_train,x_test,y_train,y_test = train_test_split(x,y,test_size=0.1)"
   ]
  },
  {
   "cell_type": "code",
   "execution_count": 30,
   "metadata": {},
   "outputs": [
    {
     "data": {
      "text/html": [
       "<style>#sk-container-id-1 {\n",
       "  /* Definition of color scheme common for light and dark mode */\n",
       "  --sklearn-color-text: #000;\n",
       "  --sklearn-color-text-muted: #666;\n",
       "  --sklearn-color-line: gray;\n",
       "  /* Definition of color scheme for unfitted estimators */\n",
       "  --sklearn-color-unfitted-level-0: #fff5e6;\n",
       "  --sklearn-color-unfitted-level-1: #f6e4d2;\n",
       "  --sklearn-color-unfitted-level-2: #ffe0b3;\n",
       "  --sklearn-color-unfitted-level-3: chocolate;\n",
       "  /* Definition of color scheme for fitted estimators */\n",
       "  --sklearn-color-fitted-level-0: #f0f8ff;\n",
       "  --sklearn-color-fitted-level-1: #d4ebff;\n",
       "  --sklearn-color-fitted-level-2: #b3dbfd;\n",
       "  --sklearn-color-fitted-level-3: cornflowerblue;\n",
       "\n",
       "  /* Specific color for light theme */\n",
       "  --sklearn-color-text-on-default-background: var(--sg-text-color, var(--theme-code-foreground, var(--jp-content-font-color1, black)));\n",
       "  --sklearn-color-background: var(--sg-background-color, var(--theme-background, var(--jp-layout-color0, white)));\n",
       "  --sklearn-color-border-box: var(--sg-text-color, var(--theme-code-foreground, var(--jp-content-font-color1, black)));\n",
       "  --sklearn-color-icon: #696969;\n",
       "\n",
       "  @media (prefers-color-scheme: dark) {\n",
       "    /* Redefinition of color scheme for dark theme */\n",
       "    --sklearn-color-text-on-default-background: var(--sg-text-color, var(--theme-code-foreground, var(--jp-content-font-color1, white)));\n",
       "    --sklearn-color-background: var(--sg-background-color, var(--theme-background, var(--jp-layout-color0, #111)));\n",
       "    --sklearn-color-border-box: var(--sg-text-color, var(--theme-code-foreground, var(--jp-content-font-color1, white)));\n",
       "    --sklearn-color-icon: #878787;\n",
       "  }\n",
       "}\n",
       "\n",
       "#sk-container-id-1 {\n",
       "  color: var(--sklearn-color-text);\n",
       "}\n",
       "\n",
       "#sk-container-id-1 pre {\n",
       "  padding: 0;\n",
       "}\n",
       "\n",
       "#sk-container-id-1 input.sk-hidden--visually {\n",
       "  border: 0;\n",
       "  clip: rect(1px 1px 1px 1px);\n",
       "  clip: rect(1px, 1px, 1px, 1px);\n",
       "  height: 1px;\n",
       "  margin: -1px;\n",
       "  overflow: hidden;\n",
       "  padding: 0;\n",
       "  position: absolute;\n",
       "  width: 1px;\n",
       "}\n",
       "\n",
       "#sk-container-id-1 div.sk-dashed-wrapped {\n",
       "  border: 1px dashed var(--sklearn-color-line);\n",
       "  margin: 0 0.4em 0.5em 0.4em;\n",
       "  box-sizing: border-box;\n",
       "  padding-bottom: 0.4em;\n",
       "  background-color: var(--sklearn-color-background);\n",
       "}\n",
       "\n",
       "#sk-container-id-1 div.sk-container {\n",
       "  /* jupyter's `normalize.less` sets `[hidden] { display: none; }`\n",
       "     but bootstrap.min.css set `[hidden] { display: none !important; }`\n",
       "     so we also need the `!important` here to be able to override the\n",
       "     default hidden behavior on the sphinx rendered scikit-learn.org.\n",
       "     See: https://github.com/scikit-learn/scikit-learn/issues/21755 */\n",
       "  display: inline-block !important;\n",
       "  position: relative;\n",
       "}\n",
       "\n",
       "#sk-container-id-1 div.sk-text-repr-fallback {\n",
       "  display: none;\n",
       "}\n",
       "\n",
       "div.sk-parallel-item,\n",
       "div.sk-serial,\n",
       "div.sk-item {\n",
       "  /* draw centered vertical line to link estimators */\n",
       "  background-image: linear-gradient(var(--sklearn-color-text-on-default-background), var(--sklearn-color-text-on-default-background));\n",
       "  background-size: 2px 100%;\n",
       "  background-repeat: no-repeat;\n",
       "  background-position: center center;\n",
       "}\n",
       "\n",
       "/* Parallel-specific style estimator block */\n",
       "\n",
       "#sk-container-id-1 div.sk-parallel-item::after {\n",
       "  content: \"\";\n",
       "  width: 100%;\n",
       "  border-bottom: 2px solid var(--sklearn-color-text-on-default-background);\n",
       "  flex-grow: 1;\n",
       "}\n",
       "\n",
       "#sk-container-id-1 div.sk-parallel {\n",
       "  display: flex;\n",
       "  align-items: stretch;\n",
       "  justify-content: center;\n",
       "  background-color: var(--sklearn-color-background);\n",
       "  position: relative;\n",
       "}\n",
       "\n",
       "#sk-container-id-1 div.sk-parallel-item {\n",
       "  display: flex;\n",
       "  flex-direction: column;\n",
       "}\n",
       "\n",
       "#sk-container-id-1 div.sk-parallel-item:first-child::after {\n",
       "  align-self: flex-end;\n",
       "  width: 50%;\n",
       "}\n",
       "\n",
       "#sk-container-id-1 div.sk-parallel-item:last-child::after {\n",
       "  align-self: flex-start;\n",
       "  width: 50%;\n",
       "}\n",
       "\n",
       "#sk-container-id-1 div.sk-parallel-item:only-child::after {\n",
       "  width: 0;\n",
       "}\n",
       "\n",
       "/* Serial-specific style estimator block */\n",
       "\n",
       "#sk-container-id-1 div.sk-serial {\n",
       "  display: flex;\n",
       "  flex-direction: column;\n",
       "  align-items: center;\n",
       "  background-color: var(--sklearn-color-background);\n",
       "  padding-right: 1em;\n",
       "  padding-left: 1em;\n",
       "}\n",
       "\n",
       "\n",
       "/* Toggleable style: style used for estimator/Pipeline/ColumnTransformer box that is\n",
       "clickable and can be expanded/collapsed.\n",
       "- Pipeline and ColumnTransformer use this feature and define the default style\n",
       "- Estimators will overwrite some part of the style using the `sk-estimator` class\n",
       "*/\n",
       "\n",
       "/* Pipeline and ColumnTransformer style (default) */\n",
       "\n",
       "#sk-container-id-1 div.sk-toggleable {\n",
       "  /* Default theme specific background. It is overwritten whether we have a\n",
       "  specific estimator or a Pipeline/ColumnTransformer */\n",
       "  background-color: var(--sklearn-color-background);\n",
       "}\n",
       "\n",
       "/* Toggleable label */\n",
       "#sk-container-id-1 label.sk-toggleable__label {\n",
       "  cursor: pointer;\n",
       "  display: flex;\n",
       "  width: 100%;\n",
       "  margin-bottom: 0;\n",
       "  padding: 0.5em;\n",
       "  box-sizing: border-box;\n",
       "  text-align: center;\n",
       "  align-items: start;\n",
       "  justify-content: space-between;\n",
       "  gap: 0.5em;\n",
       "}\n",
       "\n",
       "#sk-container-id-1 label.sk-toggleable__label .caption {\n",
       "  font-size: 0.6rem;\n",
       "  font-weight: lighter;\n",
       "  color: var(--sklearn-color-text-muted);\n",
       "}\n",
       "\n",
       "#sk-container-id-1 label.sk-toggleable__label-arrow:before {\n",
       "  /* Arrow on the left of the label */\n",
       "  content: \"▸\";\n",
       "  float: left;\n",
       "  margin-right: 0.25em;\n",
       "  color: var(--sklearn-color-icon);\n",
       "}\n",
       "\n",
       "#sk-container-id-1 label.sk-toggleable__label-arrow:hover:before {\n",
       "  color: var(--sklearn-color-text);\n",
       "}\n",
       "\n",
       "/* Toggleable content - dropdown */\n",
       "\n",
       "#sk-container-id-1 div.sk-toggleable__content {\n",
       "  max-height: 0;\n",
       "  max-width: 0;\n",
       "  overflow: hidden;\n",
       "  text-align: left;\n",
       "  /* unfitted */\n",
       "  background-color: var(--sklearn-color-unfitted-level-0);\n",
       "}\n",
       "\n",
       "#sk-container-id-1 div.sk-toggleable__content.fitted {\n",
       "  /* fitted */\n",
       "  background-color: var(--sklearn-color-fitted-level-0);\n",
       "}\n",
       "\n",
       "#sk-container-id-1 div.sk-toggleable__content pre {\n",
       "  margin: 0.2em;\n",
       "  border-radius: 0.25em;\n",
       "  color: var(--sklearn-color-text);\n",
       "  /* unfitted */\n",
       "  background-color: var(--sklearn-color-unfitted-level-0);\n",
       "}\n",
       "\n",
       "#sk-container-id-1 div.sk-toggleable__content.fitted pre {\n",
       "  /* unfitted */\n",
       "  background-color: var(--sklearn-color-fitted-level-0);\n",
       "}\n",
       "\n",
       "#sk-container-id-1 input.sk-toggleable__control:checked~div.sk-toggleable__content {\n",
       "  /* Expand drop-down */\n",
       "  max-height: 200px;\n",
       "  max-width: 100%;\n",
       "  overflow: auto;\n",
       "}\n",
       "\n",
       "#sk-container-id-1 input.sk-toggleable__control:checked~label.sk-toggleable__label-arrow:before {\n",
       "  content: \"▾\";\n",
       "}\n",
       "\n",
       "/* Pipeline/ColumnTransformer-specific style */\n",
       "\n",
       "#sk-container-id-1 div.sk-label input.sk-toggleable__control:checked~label.sk-toggleable__label {\n",
       "  color: var(--sklearn-color-text);\n",
       "  background-color: var(--sklearn-color-unfitted-level-2);\n",
       "}\n",
       "\n",
       "#sk-container-id-1 div.sk-label.fitted input.sk-toggleable__control:checked~label.sk-toggleable__label {\n",
       "  background-color: var(--sklearn-color-fitted-level-2);\n",
       "}\n",
       "\n",
       "/* Estimator-specific style */\n",
       "\n",
       "/* Colorize estimator box */\n",
       "#sk-container-id-1 div.sk-estimator input.sk-toggleable__control:checked~label.sk-toggleable__label {\n",
       "  /* unfitted */\n",
       "  background-color: var(--sklearn-color-unfitted-level-2);\n",
       "}\n",
       "\n",
       "#sk-container-id-1 div.sk-estimator.fitted input.sk-toggleable__control:checked~label.sk-toggleable__label {\n",
       "  /* fitted */\n",
       "  background-color: var(--sklearn-color-fitted-level-2);\n",
       "}\n",
       "\n",
       "#sk-container-id-1 div.sk-label label.sk-toggleable__label,\n",
       "#sk-container-id-1 div.sk-label label {\n",
       "  /* The background is the default theme color */\n",
       "  color: var(--sklearn-color-text-on-default-background);\n",
       "}\n",
       "\n",
       "/* On hover, darken the color of the background */\n",
       "#sk-container-id-1 div.sk-label:hover label.sk-toggleable__label {\n",
       "  color: var(--sklearn-color-text);\n",
       "  background-color: var(--sklearn-color-unfitted-level-2);\n",
       "}\n",
       "\n",
       "/* Label box, darken color on hover, fitted */\n",
       "#sk-container-id-1 div.sk-label.fitted:hover label.sk-toggleable__label.fitted {\n",
       "  color: var(--sklearn-color-text);\n",
       "  background-color: var(--sklearn-color-fitted-level-2);\n",
       "}\n",
       "\n",
       "/* Estimator label */\n",
       "\n",
       "#sk-container-id-1 div.sk-label label {\n",
       "  font-family: monospace;\n",
       "  font-weight: bold;\n",
       "  display: inline-block;\n",
       "  line-height: 1.2em;\n",
       "}\n",
       "\n",
       "#sk-container-id-1 div.sk-label-container {\n",
       "  text-align: center;\n",
       "}\n",
       "\n",
       "/* Estimator-specific */\n",
       "#sk-container-id-1 div.sk-estimator {\n",
       "  font-family: monospace;\n",
       "  border: 1px dotted var(--sklearn-color-border-box);\n",
       "  border-radius: 0.25em;\n",
       "  box-sizing: border-box;\n",
       "  margin-bottom: 0.5em;\n",
       "  /* unfitted */\n",
       "  background-color: var(--sklearn-color-unfitted-level-0);\n",
       "}\n",
       "\n",
       "#sk-container-id-1 div.sk-estimator.fitted {\n",
       "  /* fitted */\n",
       "  background-color: var(--sklearn-color-fitted-level-0);\n",
       "}\n",
       "\n",
       "/* on hover */\n",
       "#sk-container-id-1 div.sk-estimator:hover {\n",
       "  /* unfitted */\n",
       "  background-color: var(--sklearn-color-unfitted-level-2);\n",
       "}\n",
       "\n",
       "#sk-container-id-1 div.sk-estimator.fitted:hover {\n",
       "  /* fitted */\n",
       "  background-color: var(--sklearn-color-fitted-level-2);\n",
       "}\n",
       "\n",
       "/* Specification for estimator info (e.g. \"i\" and \"?\") */\n",
       "\n",
       "/* Common style for \"i\" and \"?\" */\n",
       "\n",
       ".sk-estimator-doc-link,\n",
       "a:link.sk-estimator-doc-link,\n",
       "a:visited.sk-estimator-doc-link {\n",
       "  float: right;\n",
       "  font-size: smaller;\n",
       "  line-height: 1em;\n",
       "  font-family: monospace;\n",
       "  background-color: var(--sklearn-color-background);\n",
       "  border-radius: 1em;\n",
       "  height: 1em;\n",
       "  width: 1em;\n",
       "  text-decoration: none !important;\n",
       "  margin-left: 0.5em;\n",
       "  text-align: center;\n",
       "  /* unfitted */\n",
       "  border: var(--sklearn-color-unfitted-level-1) 1pt solid;\n",
       "  color: var(--sklearn-color-unfitted-level-1);\n",
       "}\n",
       "\n",
       ".sk-estimator-doc-link.fitted,\n",
       "a:link.sk-estimator-doc-link.fitted,\n",
       "a:visited.sk-estimator-doc-link.fitted {\n",
       "  /* fitted */\n",
       "  border: var(--sklearn-color-fitted-level-1) 1pt solid;\n",
       "  color: var(--sklearn-color-fitted-level-1);\n",
       "}\n",
       "\n",
       "/* On hover */\n",
       "div.sk-estimator:hover .sk-estimator-doc-link:hover,\n",
       ".sk-estimator-doc-link:hover,\n",
       "div.sk-label-container:hover .sk-estimator-doc-link:hover,\n",
       ".sk-estimator-doc-link:hover {\n",
       "  /* unfitted */\n",
       "  background-color: var(--sklearn-color-unfitted-level-3);\n",
       "  color: var(--sklearn-color-background);\n",
       "  text-decoration: none;\n",
       "}\n",
       "\n",
       "div.sk-estimator.fitted:hover .sk-estimator-doc-link.fitted:hover,\n",
       ".sk-estimator-doc-link.fitted:hover,\n",
       "div.sk-label-container:hover .sk-estimator-doc-link.fitted:hover,\n",
       ".sk-estimator-doc-link.fitted:hover {\n",
       "  /* fitted */\n",
       "  background-color: var(--sklearn-color-fitted-level-3);\n",
       "  color: var(--sklearn-color-background);\n",
       "  text-decoration: none;\n",
       "}\n",
       "\n",
       "/* Span, style for the box shown on hovering the info icon */\n",
       ".sk-estimator-doc-link span {\n",
       "  display: none;\n",
       "  z-index: 9999;\n",
       "  position: relative;\n",
       "  font-weight: normal;\n",
       "  right: .2ex;\n",
       "  padding: .5ex;\n",
       "  margin: .5ex;\n",
       "  width: min-content;\n",
       "  min-width: 20ex;\n",
       "  max-width: 50ex;\n",
       "  color: var(--sklearn-color-text);\n",
       "  box-shadow: 2pt 2pt 4pt #999;\n",
       "  /* unfitted */\n",
       "  background: var(--sklearn-color-unfitted-level-0);\n",
       "  border: .5pt solid var(--sklearn-color-unfitted-level-3);\n",
       "}\n",
       "\n",
       ".sk-estimator-doc-link.fitted span {\n",
       "  /* fitted */\n",
       "  background: var(--sklearn-color-fitted-level-0);\n",
       "  border: var(--sklearn-color-fitted-level-3);\n",
       "}\n",
       "\n",
       ".sk-estimator-doc-link:hover span {\n",
       "  display: block;\n",
       "}\n",
       "\n",
       "/* \"?\"-specific style due to the `<a>` HTML tag */\n",
       "\n",
       "#sk-container-id-1 a.estimator_doc_link {\n",
       "  float: right;\n",
       "  font-size: 1rem;\n",
       "  line-height: 1em;\n",
       "  font-family: monospace;\n",
       "  background-color: var(--sklearn-color-background);\n",
       "  border-radius: 1rem;\n",
       "  height: 1rem;\n",
       "  width: 1rem;\n",
       "  text-decoration: none;\n",
       "  /* unfitted */\n",
       "  color: var(--sklearn-color-unfitted-level-1);\n",
       "  border: var(--sklearn-color-unfitted-level-1) 1pt solid;\n",
       "}\n",
       "\n",
       "#sk-container-id-1 a.estimator_doc_link.fitted {\n",
       "  /* fitted */\n",
       "  border: var(--sklearn-color-fitted-level-1) 1pt solid;\n",
       "  color: var(--sklearn-color-fitted-level-1);\n",
       "}\n",
       "\n",
       "/* On hover */\n",
       "#sk-container-id-1 a.estimator_doc_link:hover {\n",
       "  /* unfitted */\n",
       "  background-color: var(--sklearn-color-unfitted-level-3);\n",
       "  color: var(--sklearn-color-background);\n",
       "  text-decoration: none;\n",
       "}\n",
       "\n",
       "#sk-container-id-1 a.estimator_doc_link.fitted:hover {\n",
       "  /* fitted */\n",
       "  background-color: var(--sklearn-color-fitted-level-3);\n",
       "}\n",
       "</style><div id=\"sk-container-id-1\" class=\"sk-top-container\"><div class=\"sk-text-repr-fallback\"><pre>DecisionTreeClassifier()</pre><b>In a Jupyter environment, please rerun this cell to show the HTML representation or trust the notebook. <br />On GitHub, the HTML representation is unable to render, please try loading this page with nbviewer.org.</b></div><div class=\"sk-container\" hidden><div class=\"sk-item\"><div class=\"sk-estimator fitted sk-toggleable\"><input class=\"sk-toggleable__control sk-hidden--visually\" id=\"sk-estimator-id-1\" type=\"checkbox\" checked><label for=\"sk-estimator-id-1\" class=\"sk-toggleable__label fitted sk-toggleable__label-arrow\"><div><div>DecisionTreeClassifier</div></div><div><a class=\"sk-estimator-doc-link fitted\" rel=\"noreferrer\" target=\"_blank\" href=\"https://scikit-learn.org/1.6/modules/generated/sklearn.tree.DecisionTreeClassifier.html\">?<span>Documentation for DecisionTreeClassifier</span></a><span class=\"sk-estimator-doc-link fitted\">i<span>Fitted</span></span></div></label><div class=\"sk-toggleable__content fitted\"><pre>DecisionTreeClassifier()</pre></div> </div></div></div></div>"
      ],
      "text/plain": [
       "DecisionTreeClassifier()"
      ]
     },
     "execution_count": 30,
     "metadata": {},
     "output_type": "execute_result"
    }
   ],
   "source": [
    "clf = DecisionTreeClassifier()\n",
    "clf.fit(x_train,y_train)"
   ]
  },
  {
   "cell_type": "code",
   "execution_count": 31,
   "metadata": {},
   "outputs": [],
   "source": [
    "y_pred = clf.predict(x_test)"
   ]
  },
  {
   "cell_type": "code",
   "execution_count": 33,
   "metadata": {},
   "outputs": [
    {
     "name": "stdout",
     "output_type": "stream",
     "text": [
      "                     precision    recall  f1-score   support\n",
      "\n",
      "      Acceptance          0.00      0.00      0.00         0\n",
      "      Admiration          0.00      0.00      0.00         1\n",
      "      Affection           0.00      0.00      0.00         1\n",
      "   Ambivalence            1.00      1.00      1.00         1\n",
      "      Amusement           0.00      0.00      0.00         0\n",
      "      Anticipation        0.00      0.00      0.00         1\n",
      "     ArtisticBurst        0.00      0.00      0.00         1\n",
      "            Awe           1.00      1.00      1.00         1\n",
      "      Awe                 0.00      0.00      0.00         0\n",
      "          Betrayal        0.00      0.00      0.00         1\n",
      "        Bitterness        1.00      1.00      1.00         1\n",
      "   Boredom                0.00      0.00      0.00         1\n",
      "       Celebration        0.00      0.00      0.00         1\n",
      "     Compassionate        0.00      0.00      0.00         1\n",
      "   Confusion              1.00      0.50      0.67         2\n",
      "     Contemplation        0.00      0.00      0.00         0\n",
      "       Contentment        1.00      1.00      1.00         1\n",
      "     Contentment          1.00      1.00      1.00         1\n",
      "      Creativity          0.00      0.00      0.00         0\n",
      "         Curiosity        0.00      0.00      0.00         1\n",
      "      Darkness            0.00      0.00      0.00         0\n",
      "        Desolation        0.00      0.00      0.00         0\n",
      "           Despair        1.00      0.50      0.67         2\n",
      "    Disappointment        0.00      0.00      0.00         1\n",
      "   Disgust                0.00      0.00      0.00         0\n",
      "     DreamChaser          0.00      0.00      0.00         1\n",
      "         Elation          0.00      0.00      0.00         1\n",
      "     Elation              0.00      0.00      0.00         0\n",
      "       Embarrassed        0.00      0.00      0.00         2\n",
      "           Envious        0.00      0.00      0.00         1\n",
      "        Excitement        0.00      0.00      0.00         1\n",
      "      Fear                0.00      0.00      0.00         1\n",
      "           Fearful        1.00      1.00      1.00         1\n",
      "     Free-spirited        0.00      0.00      0.00         1\n",
      "     Freedom              0.00      0.00      0.00         1\n",
      "        Friendship        0.00      0.00      0.00         1\n",
      "         Gratitude        0.00      0.00      0.00         0\n",
      "        Gratitude         1.00      1.00      1.00         1\n",
      "      Gratitude           0.00      0.00      0.00         1\n",
      "     Gratitude            1.00      1.00      1.00         1\n",
      "      Happiness           0.00      0.00      0.00         0\n",
      "     Happiness            0.00      0.00      0.00         1\n",
      "             Happy        0.00      0.00      0.00         1\n",
      "              Hate        1.00      1.00      1.00         1\n",
      "      Helplessness        0.00      0.00      0.00         1\n",
      "              Hope        0.00      0.00      0.00         1\n",
      "   Indifference           0.00      0.00      0.00         1\n",
      "       Inspiration        0.00      0.00      0.00         1\n",
      "          Inspired        0.00      0.00      0.00         0\n",
      "               Joy        0.00      0.00      0.00         5\n",
      "      Joy                 0.00      0.00      0.00         0\n",
      "     Joy in Baking        0.00      0.00      0.00         1\n",
      "      Kind                1.00      1.00      1.00         1\n",
      "        Loneliness        1.00      1.00      1.00         1\n",
      "              Loss        0.00      0.00      0.00         1\n",
      "              Love        0.00      0.00      0.00         0\n",
      "     Motivation           0.00      0.00      0.00         1\n",
      "   Nature's Beauty        0.00      0.00      0.00         1\n",
      "         Negative         0.00      0.00      0.00         0\n",
      "           Neutral        0.00      0.00      0.00         1\n",
      "         Nostalgia        0.00      0.00      0.00         1\n",
      "    Nostalgia             0.00      0.00      0.00         0\n",
      "   Nostalgia              1.00      0.50      0.67         2\n",
      "   Numbness               0.00      0.00      0.00         0\n",
      "           Playful        0.00      0.00      0.00         0\n",
      "          Positive        0.00      0.00      0.00         0\n",
      "         Positive         0.67      0.25      0.36         8\n",
      "             Pride        0.00      0.00      0.00         1\n",
      "     Pride                0.00      0.00      0.00         0\n",
      "             Proud        1.00      1.00      1.00         2\n",
      "       Radiance           0.00      0.00      0.00         0\n",
      "     Radiance             0.00      0.00      0.00         1\n",
      "            Relief        0.00      0.00      0.00         1\n",
      "        Resilience        0.00      0.00      0.00         1\n",
      "         Reverence        0.00      0.00      0.00         1\n",
      "     Reverence            0.00      0.00      0.00         0\n",
      "        Ruins             0.00      0.00      0.00         0\n",
      "      Sadness             0.00      0.00      0.00         0\n",
      "     Serenity             1.00      1.00      1.00         1\n",
      "   Serenity               0.00      0.00      0.00         1\n",
      "            Thrill        1.00      1.00      1.00         1\n",
      " Thrilling Journey        0.00      0.00      0.00         1\n",
      "\n",
      "           accuracy                           0.27        74\n",
      "          macro avg       0.22      0.19      0.20        74\n",
      "       weighted avg       0.36      0.27      0.30        74\n",
      "\n"
     ]
    },
    {
     "name": "stderr",
     "output_type": "stream",
     "text": [
      "c:\\Users\\N.NAGESH\\Desktop\\CodVeda\\myenv\\Lib\\site-packages\\sklearn\\metrics\\_classification.py:1565: UndefinedMetricWarning: Precision is ill-defined and being set to 0.0 in labels with no predicted samples. Use `zero_division` parameter to control this behavior.\n",
      "  _warn_prf(average, modifier, f\"{metric.capitalize()} is\", len(result))\n",
      "c:\\Users\\N.NAGESH\\Desktop\\CodVeda\\myenv\\Lib\\site-packages\\sklearn\\metrics\\_classification.py:1565: UndefinedMetricWarning: Recall is ill-defined and being set to 0.0 in labels with no true samples. Use `zero_division` parameter to control this behavior.\n",
      "  _warn_prf(average, modifier, f\"{metric.capitalize()} is\", len(result))\n",
      "c:\\Users\\N.NAGESH\\Desktop\\CodVeda\\myenv\\Lib\\site-packages\\sklearn\\metrics\\_classification.py:1565: UndefinedMetricWarning: Precision is ill-defined and being set to 0.0 in labels with no predicted samples. Use `zero_division` parameter to control this behavior.\n",
      "  _warn_prf(average, modifier, f\"{metric.capitalize()} is\", len(result))\n",
      "c:\\Users\\N.NAGESH\\Desktop\\CodVeda\\myenv\\Lib\\site-packages\\sklearn\\metrics\\_classification.py:1565: UndefinedMetricWarning: Recall is ill-defined and being set to 0.0 in labels with no true samples. Use `zero_division` parameter to control this behavior.\n",
      "  _warn_prf(average, modifier, f\"{metric.capitalize()} is\", len(result))\n",
      "c:\\Users\\N.NAGESH\\Desktop\\CodVeda\\myenv\\Lib\\site-packages\\sklearn\\metrics\\_classification.py:1565: UndefinedMetricWarning: Precision is ill-defined and being set to 0.0 in labels with no predicted samples. Use `zero_division` parameter to control this behavior.\n",
      "  _warn_prf(average, modifier, f\"{metric.capitalize()} is\", len(result))\n",
      "c:\\Users\\N.NAGESH\\Desktop\\CodVeda\\myenv\\Lib\\site-packages\\sklearn\\metrics\\_classification.py:1565: UndefinedMetricWarning: Recall is ill-defined and being set to 0.0 in labels with no true samples. Use `zero_division` parameter to control this behavior.\n",
      "  _warn_prf(average, modifier, f\"{metric.capitalize()} is\", len(result))\n"
     ]
    }
   ],
   "source": [
    "report = classification_report(y_test,y_pred)\n",
    "print(report)"
   ]
  },
  {
   "cell_type": "code",
   "execution_count": 36,
   "metadata": {},
   "outputs": [
    {
     "name": "stderr",
     "output_type": "stream",
     "text": [
      "c:\\Users\\N.NAGESH\\Desktop\\CodVeda\\myenv\\Lib\\site-packages\\sklearn\\model_selection\\_split.py:805: UserWarning: The least populated class in y has only 1 members, which is less than n_splits=5.\n",
      "  warnings.warn(\n"
     ]
    },
    {
     "name": "stdout",
     "output_type": "stream",
     "text": [
      "Best parameters: {'max_depth': 30, 'min_samples_leaf': 1, 'min_samples_split': 5}\n",
      "                     precision    recall  f1-score   support\n",
      "\n",
      "      Admiration          0.00      0.00      0.00         1\n",
      "      Affection           0.00      0.00      0.00         1\n",
      "   Ambivalence            1.00      1.00      1.00         1\n",
      "      Anticipation        0.00      0.00      0.00         1\n",
      "     ArtisticBurst        0.00      0.00      0.00         1\n",
      "            Awe           0.00      0.00      0.00         1\n",
      "          Betrayal        0.00      0.00      0.00         1\n",
      "        Bitterness        1.00      1.00      1.00         1\n",
      "   Boredom                0.00      0.00      0.00         1\n",
      "       Celebration        0.00      0.00      0.00         1\n",
      "     Compassionate        1.00      1.00      1.00         1\n",
      "   Confusion              0.00      0.00      0.00         2\n",
      "       Contentment        1.00      1.00      1.00         1\n",
      "     Contentment          1.00      1.00      1.00         1\n",
      "         Curiosity        0.00      0.00      0.00         1\n",
      "           Despair        0.00      0.00      0.00         2\n",
      "    Disappointment        0.00      0.00      0.00         1\n",
      "     DreamChaser          0.00      0.00      0.00         1\n",
      "         Elation          0.00      0.00      0.00         1\n",
      "     Elation              0.00      0.00      0.00         0\n",
      "       Embarrassed        0.00      0.00      0.00         2\n",
      "           Envious        0.00      0.00      0.00         1\n",
      "        Excitement        0.00      0.00      0.00         1\n",
      "      Fear                0.00      0.00      0.00         1\n",
      "           Fearful        0.00      0.00      0.00         1\n",
      "     Free-spirited        0.00      0.00      0.00         1\n",
      "     Freedom              0.00      0.00      0.00         1\n",
      "        Friendship        0.00      0.00      0.00         1\n",
      "        Gratitude         0.00      0.00      0.00         1\n",
      "      Gratitude           0.00      0.00      0.00         1\n",
      "     Gratitude            0.00      0.00      0.00         1\n",
      "     Happiness            0.00      0.00      0.00         1\n",
      "             Happy        0.00      0.00      0.00         1\n",
      "              Hate        1.00      1.00      1.00         1\n",
      "      Helplessness        0.00      0.00      0.00         1\n",
      "              Hope        0.00      0.00      0.00         1\n",
      "   Indifference           0.00      0.00      0.00         1\n",
      "       Inspiration        0.00      0.00      0.00         1\n",
      "          Inspired        0.00      0.00      0.00         0\n",
      "               Joy        0.03      0.20      0.05         5\n",
      "     Joy in Baking        0.00      0.00      0.00         1\n",
      "      Kind                0.00      0.00      0.00         1\n",
      "        Loneliness        1.00      1.00      1.00         1\n",
      "              Loss        0.00      0.00      0.00         1\n",
      "     Motivation           0.00      0.00      0.00         1\n",
      "   Nature's Beauty        0.00      0.00      0.00         1\n",
      "           Neutral        0.00      0.00      0.00         1\n",
      "         Nostalgia        0.00      0.00      0.00         1\n",
      "   Nostalgia              0.00      0.00      0.00         2\n",
      "         Positive         0.25      0.88      0.39         8\n",
      "             Pride        0.00      0.00      0.00         1\n",
      "             Proud        0.00      0.00      0.00         2\n",
      "     Radiance             0.00      0.00      0.00         1\n",
      "            Relief        0.00      0.00      0.00         1\n",
      "        Resilience        0.00      0.00      0.00         1\n",
      "         Reverence        0.00      0.00      0.00         1\n",
      "     Serenity             1.00      1.00      1.00         1\n",
      "   Serenity               0.00      0.00      0.00         1\n",
      "            Thrill        0.00      0.00      0.00         1\n",
      " Thrilling Journey        0.00      0.00      0.00         1\n",
      "              Zest        0.00      0.00      0.00         0\n",
      "\n",
      "           accuracy                           0.22        74\n",
      "          macro avg       0.14      0.15      0.14        74\n",
      "       weighted avg       0.14      0.22      0.15        74\n",
      "\n"
     ]
    },
    {
     "name": "stderr",
     "output_type": "stream",
     "text": [
      "c:\\Users\\N.NAGESH\\Desktop\\CodVeda\\myenv\\Lib\\site-packages\\sklearn\\metrics\\_classification.py:1565: UndefinedMetricWarning: Precision is ill-defined and being set to 0.0 in labels with no predicted samples. Use `zero_division` parameter to control this behavior.\n",
      "  _warn_prf(average, modifier, f\"{metric.capitalize()} is\", len(result))\n",
      "c:\\Users\\N.NAGESH\\Desktop\\CodVeda\\myenv\\Lib\\site-packages\\sklearn\\metrics\\_classification.py:1565: UndefinedMetricWarning: Recall is ill-defined and being set to 0.0 in labels with no true samples. Use `zero_division` parameter to control this behavior.\n",
      "  _warn_prf(average, modifier, f\"{metric.capitalize()} is\", len(result))\n",
      "c:\\Users\\N.NAGESH\\Desktop\\CodVeda\\myenv\\Lib\\site-packages\\sklearn\\metrics\\_classification.py:1565: UndefinedMetricWarning: Precision is ill-defined and being set to 0.0 in labels with no predicted samples. Use `zero_division` parameter to control this behavior.\n",
      "  _warn_prf(average, modifier, f\"{metric.capitalize()} is\", len(result))\n",
      "c:\\Users\\N.NAGESH\\Desktop\\CodVeda\\myenv\\Lib\\site-packages\\sklearn\\metrics\\_classification.py:1565: UndefinedMetricWarning: Recall is ill-defined and being set to 0.0 in labels with no true samples. Use `zero_division` parameter to control this behavior.\n",
      "  _warn_prf(average, modifier, f\"{metric.capitalize()} is\", len(result))\n",
      "c:\\Users\\N.NAGESH\\Desktop\\CodVeda\\myenv\\Lib\\site-packages\\sklearn\\metrics\\_classification.py:1565: UndefinedMetricWarning: Precision is ill-defined and being set to 0.0 in labels with no predicted samples. Use `zero_division` parameter to control this behavior.\n",
      "  _warn_prf(average, modifier, f\"{metric.capitalize()} is\", len(result))\n",
      "c:\\Users\\N.NAGESH\\Desktop\\CodVeda\\myenv\\Lib\\site-packages\\sklearn\\metrics\\_classification.py:1565: UndefinedMetricWarning: Recall is ill-defined and being set to 0.0 in labels with no true samples. Use `zero_division` parameter to control this behavior.\n",
      "  _warn_prf(average, modifier, f\"{metric.capitalize()} is\", len(result))\n"
     ]
    }
   ],
   "source": [
    "from sklearn.model_selection import GridSearchCV\n",
    "\n",
    "param_grid = {\n",
    "    \"max_depth\": [10, 20, 30],\n",
    "    \"min_samples_split\": [2, 5, 10],\n",
    "    \"min_samples_leaf\": [1, 2, 4]\n",
    "}\n",
    "\n",
    "grid_search = GridSearchCV(DecisionTreeClassifier(random_state=42), param_grid, cv=5, scoring=\"accuracy\", n_jobs=-1)\n",
    "grid_search.fit(x_train, y_train)\n",
    "\n",
    "# Best parameters\n",
    "print(\"Best parameters:\", grid_search.best_params_)\n",
    "\n",
    "# Evaluate the best model\n",
    "best_clf = grid_search.best_estimator_\n",
    "y_pred_best = best_clf.predict(x_test)\n",
    "print(classification_report(y_test, y_pred_best))\n"
   ]
  },
  {
   "cell_type": "code",
   "execution_count": null,
   "metadata": {},
   "outputs": [
    {
     "ename": "ModuleNotFoundError",
     "evalue": "No module named 'imblearn'",
     "output_type": "error",
     "traceback": [
      "\u001b[31m---------------------------------------------------------------------------\u001b[39m",
      "\u001b[31mModuleNotFoundError\u001b[39m                       Traceback (most recent call last)",
      "\u001b[36mCell\u001b[39m\u001b[36m \u001b[39m\u001b[32mIn[37]\u001b[39m\u001b[32m, line 1\u001b[39m\n\u001b[32m----> \u001b[39m\u001b[32m1\u001b[39m \u001b[38;5;28;01mfrom\u001b[39;00m\u001b[38;5;250m \u001b[39m\u001b[34;01mimblearn\u001b[39;00m\u001b[34;01m.\u001b[39;00m\u001b[34;01mover_sampling\u001b[39;00m\u001b[38;5;250m \u001b[39m\u001b[38;5;28;01mimport\u001b[39;00m SMOTE\n\u001b[32m      3\u001b[39m smote = SMOTE()\n\u001b[32m      4\u001b[39m X_train_resampled, y_train_resampled = smote.fit_resample(X_train, y_train)\n",
      "\u001b[31mModuleNotFoundError\u001b[39m: No module named 'imblearn'"
     ]
    }
   ],
   "source": []
  },
  {
   "cell_type": "code",
   "execution_count": null,
   "metadata": {},
   "outputs": [],
   "source": []
  }
 ],
 "metadata": {
  "kernelspec": {
   "display_name": "myenv",
   "language": "python",
   "name": "python3"
  },
  "language_info": {
   "codemirror_mode": {
    "name": "ipython",
    "version": 3
   },
   "file_extension": ".py",
   "mimetype": "text/x-python",
   "name": "python",
   "nbconvert_exporter": "python",
   "pygments_lexer": "ipython3",
   "version": "3.11.3"
  }
 },
 "nbformat": 4,
 "nbformat_minor": 2
}
